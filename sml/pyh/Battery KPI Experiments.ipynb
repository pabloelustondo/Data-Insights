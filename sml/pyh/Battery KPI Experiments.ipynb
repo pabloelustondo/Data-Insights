{
 "cells": [
  {
   "cell_type": "markdown",
   "metadata": {},
   "source": [
    "# From stand-alone python to SML\n",
    "the pourpose of this experiment is to re-write the \n",
    "existing code for this kpi about devices and battery in our sml language.\n",
    "In this notebook we will review the current code starting with data from an existing json file with the filtered data as it will be provided by the framework."
   ]
  },
  {
   "cell_type": "code",
   "execution_count": 6,
   "metadata": {
    "collapsed": true
   },
   "outputs": [],
   "source": [
    "import json\n",
    "with open('2106_08_22_10_18_json.json') as json_data:\n",
    "    d = json.load(json_data)"
   ]
  },
  {
   "cell_type": "code",
   "execution_count": 7,
   "metadata": {
    "collapsed": true
   },
   "outputs": [],
   "source": [
    "import pandas as pd \n",
    "data = pd.DataFrame(d)"
   ]
  },
  {
   "cell_type": "markdown",
   "metadata": {},
   "source": [
    "# \n",
    "        var shift = 0;\n",
    "        var threshold = 10;\n",
    "        var start = '2016-08-22';\n",
    "        var end = '2016-08-23';"
   ]
  },
  {
   "cell_type": "code",
   "execution_count": 14,
   "metadata": {},
   "outputs": [],
   "source": [
    "threshold = 0\n",
    "shift = 10\n",
    "start = \"2016-08-22\"\n",
    "end = \"2016-08-23\"\n",
    "cols = data.select_dtypes(['object'])\n",
    "data[cols.columns] = cols.apply(lambda x: x.str.strip())\n"
   ]
  },
  {
   "cell_type": "code",
   "execution_count": 66,
   "metadata": {
    "collapsed": true
   },
   "outputs": [],
   "source": [
    "#cleaning non numerical data\n",
    "cols = data.select_dtypes(['object'])\n",
    "data[cols.columns] = cols.apply(lambda x: x.str.strip())"
   ]
  },
  {
   "cell_type": "code",
   "execution_count": 103,
   "metadata": {},
   "outputs": [
    {
     "data": {
      "text/plain": [
       "StatType     int64\n",
       "_id         object\n",
       "intvalue     int64\n",
       "dtype: object"
      ]
     },
     "execution_count": 103,
     "metadata": {},
     "output_type": "execute_result"
    }
   ],
   "source": [
    "# at this point we have a data we want. But, the dates are string \n",
    "# and cannot be compared\n",
    "data.dtypes"
   ]
  },
  {
   "cell_type": "code",
   "execution_count": 6,
   "metadata": {
    "collapsed": true
   },
   "outputs": [],
   "source": [
    "# this is something we could have avoided by providing \n",
    "# the data in the right way from the beginning\n",
    "data['time_stamp'] = pd.to_datetime(data['time_stamp'], format='%Y-%m-%d %H:%M:%S')"
   ]
  },
  {
   "cell_type": "code",
   "execution_count": 7,
   "metadata": {},
   "outputs": [
    {
     "data": {
      "text/plain": [
       "StatType               int64\n",
       "_id                   object\n",
       "devid                 object\n",
       "intvalue               int64\n",
       "time_stamp    datetime64[ns]\n",
       "dtype: object"
      ]
     },
     "execution_count": 7,
     "metadata": {},
     "output_type": "execute_result"
    }
   ],
   "source": [
    "data.dtypes"
   ]
  },
  {
   "cell_type": "code",
   "execution_count": 68,
   "metadata": {
    "collapsed": true
   },
   "outputs": [],
   "source": [
    "#SORTING ...THIS SEEMS SOMEHOW IMPORTNANT\n",
    "data.set_index(['devid', 'time_stamp'], inplace=True)\n",
    "data.sort_index(level=1, inplace=True)"
   ]
  },
  {
   "cell_type": "code",
   "execution_count": 70,
   "metadata": {
    "collapsed": true
   },
   "outputs": [],
   "source": [
    "dischargedGroup = (data.groupby(level=0, sort=False)['intvalue']\n",
    "                           .apply(list))"
   ]
  },
  {
   "cell_type": "code",
   "execution_count": 53,
   "metadata": {
    "collapsed": true
   },
   "outputs": [],
   "source": [
    "code = \"x+1\""
   ]
  },
  {
   "cell_type": "code",
   "execution_count": 54,
   "metadata": {},
   "outputs": [
    {
     "data": {
      "text/plain": [
       "'x+1'"
      ]
     },
     "execution_count": 54,
     "metadata": {},
     "output_type": "execute_result"
    }
   ],
   "source": [
    "code"
   ]
  },
  {
   "cell_type": "code",
   "execution_count": 55,
   "metadata": {},
   "outputs": [
    {
     "data": {
      "text/plain": [
       "2"
      ]
     },
     "execution_count": 55,
     "metadata": {},
     "output_type": "execute_result"
    }
   ],
   "source": [
    "x=1\n",
    "eval(code)"
   ]
  },
  {
   "cell_type": "code",
   "execution_count": 14,
   "metadata": {
    "collapsed": true
   },
   "outputs": [],
   "source": [
    "code=\"\"\"\n",
    "def f(data):\n",
    "                cols = data.select_dtypes(['object'])\n",
    "                data[cols.columns] = cols.apply(lambda x: x.str.strip())\n",
    "                data['time_stamp'] = pd.to_datetime(data['time_stamp'], format='%Y-%m-%d %H:%M:%S')\n",
    "                data.set_index(['devid', 'time_stamp'], inplace=True) \n",
    "                data.sort_index(level=1, inplace=True)\n",
    "                dischargedGroup = (data.groupby(level=0, sort=False)['intvalue'].apply(list))\n",
    "                def check(line): \n",
    "                    oldval = 100\n",
    "                    for i in line:\n",
    "                        if (i > oldval) | (i < threshold):\n",
    "                            return 1\n",
    "                            break\n",
    "                        else: \n",
    "                            oldval = i\n",
    "                        return 0\n",
    "                discharged = dischargedGroup.apply(check)\n",
    "                dischargedGroup = pd.DataFrame(dischargedGroup)\n",
    "                discharged = pd.DataFrame(discharged)\n",
    "                discharged = discharged[discharged['intvalue'] > 0]\n",
    "                discharged = pd.merge(discharged, dischargedGroup, left_index=True, right_index=True)\n",
    "                print(discharged)\n",
    "\"\"\""
   ]
  },
  {
   "cell_type": "code",
   "execution_count": 15,
   "metadata": {},
   "outputs": [
    {
     "name": "stdout",
     "output_type": "stream",
     "text": [
      "                                   intvalue_x  \\\n",
      "devid                                           \n",
      "73E65B7606490108010F-0BD088560600           1   \n",
      "\n",
      "                                                                          intvalue_y  \n",
      "devid                                                                                 \n",
      "73E65B7606490108010F-0BD088560600  [8, 100, 100, 100, 100, 100, 100, 100, 100, 10...  \n"
     ]
    }
   ],
   "source": [
    "import json\n",
    "with open('2106_08_22_10_18_json.json') as json_data:\n",
    "    d = json.load(json_data)\n",
    "import pandas as pd \n",
    "data = pd.DataFrame(d)\n",
    "start = ''\n",
    "shift = 0\n",
    "threshold = 10\n",
    "exec(code)\n",
    "f(data)"
   ]
  },
  {
   "cell_type": "markdown",
   "metadata": {},
   "source": [
    "# Example of how to execute python code stored in strings\n",
    "import sys\n",
    "import StringIO\n",
    "\n",
    "### create file-like string to capture output\n",
    "codeOut = StringIO.StringIO()\n",
    "codeErr = StringIO.StringIO()\n",
    "\n",
    "code = \"\"\"\n",
    "def f(x):\n",
    "    x = x + 1\n",
    "    return x\n",
    "\n",
    "print 'This is my output.'\n",
    "\"\"\"\n",
    "\n",
    "### capture output and errors\n",
    "sys.stdout = codeOut\n",
    "sys.stderr = codeErr\n",
    "\n",
    "exec code\n",
    "\n",
    "### restore stdout and stderr\n",
    "sys.stdout = sys.__stdout__\n",
    "sys.stderr = sys.__stderr__\n",
    "\n",
    "print f(4)\n",
    "\n",
    "s = codeErr.getvalue()\n",
    "\n",
    "print \"error:\\n%s\\n\" % s\n",
    "\n",
    "s = codeOut.getvalue()\n",
    "\n",
    "print \"output:\\n%s\" % s\n",
    "\n",
    "codeOut.close()\n",
    "codeErr.close()\n"
   ]
  }
 ],
 "metadata": {
  "kernelspec": {
   "display_name": "Python 2",
   "language": "python",
   "name": "python2"
  },
  "language_info": {
   "codemirror_mode": {
    "name": "ipython",
    "version": 2
   },
   "file_extension": ".py",
   "mimetype": "text/x-python",
   "name": "python",
   "nbconvert_exporter": "python",
   "pygments_lexer": "ipython2",
   "version": "2.7.13"
  }
 },
 "nbformat": 4,
 "nbformat_minor": 2
}
