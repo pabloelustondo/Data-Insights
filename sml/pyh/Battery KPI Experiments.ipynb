{
 "cells": [
  {
   "cell_type": "code",
   "execution_count": null,
   "metadata": {
    "collapsed": true
   },
   "outputs": [],
   "source": []
  },
  {
   "cell_type": "markdown",
   "metadata": {},
   "source": [
    "# Battery KPI - from Python to SML\n",
    "The pourpose of this experiment is to simplify and attach the \n",
    "existing code for this kpi about devices and battery in our sml language.\n",
    "In this notebook we will review the current code starting with data from an existing json file with the filtered data as it will be provided by the framework. The code that will be included in the SML expression start after the \"USER CODE BEGINS\" "
   ]
  },
  {
   "cell_type": "code",
   "execution_count": 21,
   "metadata": {},
   "outputs": [
    {
     "name": "stdout",
     "output_type": "stream",
     "text": [
      "[{\"intvalue_x\":1,\"intvalue_y\":[22,21,20,19,19,18,17,17,16,15,14,13,11,11,9,9],\"StartDate\":\"2016-08-22\",\"EndDate\":\"2016-08-23\"},{\"intvalue_x\":1,\"intvalue_y\":[100,100,100,100,100,100,100,100,100,100,100,100,100,100,98,100],\"StartDate\":\"2016-08-22\",\"EndDate\":\"2016-08-23\"},{\"intvalue_x\":1,\"intvalue_y\":[14,12,11,100,100,100,100,100,100,100,100,100,100,100,100,100],\"StartDate\":\"2016-08-22\",\"EndDate\":\"2016-08-23\"},{\"intvalue_x\":1,\"intvalue_y\":[10,100,100,100,100,100,100,100,100,100,100,100,100,100,100,100],\"StartDate\":\"2016-08-22\",\"EndDate\":\"2016-08-23\"},{\"intvalue_x\":1,\"intvalue_y\":[29,30,27,26,24,23,22,20,19,18,17,15,13,11,11,11],\"StartDate\":\"2016-08-22\",\"EndDate\":\"2016-08-23\"},{\"intvalue_x\":1,\"intvalue_y\":[12,12,10,100,100,100,100,100,100,100,100,100,100,100,100,100],\"StartDate\":\"2016-08-22\",\"EndDate\":\"2016-08-23\"},{\"intvalue_x\":1,\"intvalue_y\":[18,17,17,16,100,100,100,100,100,100,100,100,100,100,100,100],\"StartDate\":\"2016-08-22\",\"EndDate\":\"2016-08-23\"},{\"intvalue_x\":1,\"intvalue_y\":[17,15,13,11,10,10,9,8],\"StartDate\":\"2016-08-22\",\"EndDate\":\"2016-08-23\"},{\"intvalue_x\":1,\"intvalue_y\":[10,10,9,100,100,100,100,100,100,100,100,100,100,100,100,100],\"StartDate\":\"2016-08-22\",\"EndDate\":\"2016-08-23\"},{\"intvalue_x\":1,\"intvalue_y\":[10,100,100,100,100,100,100,100,100,100,100,100,100,100,100,100],\"StartDate\":\"2016-08-22\",\"EndDate\":\"2016-08-23\"},{\"intvalue_x\":1,\"intvalue_y\":[57,55,52,46,39,33,100,100,100,100,100,100,100,100,100,100],\"StartDate\":\"2016-08-22\",\"EndDate\":\"2016-08-23\"},{\"intvalue_x\":1,\"intvalue_y\":[16,15,14,12,100,100,100,100,100,100,100,100,100,100,100,100],\"StartDate\":\"2016-08-22\",\"EndDate\":\"2016-08-23\"},{\"intvalue_x\":1,\"intvalue_y\":[11,100,100,100,100,100],\"StartDate\":\"2016-08-22\",\"EndDate\":\"2016-08-23\"},{\"intvalue_x\":1,\"intvalue_y\":[11,100,100,100,100,100,100,100,100,100,100,100,100,100,100,100],\"StartDate\":\"2016-08-22\",\"EndDate\":\"2016-08-23\"},{\"intvalue_x\":1,\"intvalue_y\":[8,100,100,100,100,100,100,100,100,100,100,100,100,100,100,100],\"StartDate\":\"2016-08-22\",\"EndDate\":\"2016-08-23\"},{\"intvalue_x\":1,\"intvalue_y\":[18,17,16,14,12,11,10,10,10,9],\"StartDate\":\"2016-08-22\",\"EndDate\":\"2016-08-23\"},{\"intvalue_x\":1,\"intvalue_y\":[17,14,12,100,100,100,100,100,100,100,100,100,100,100,100,100],\"StartDate\":\"2016-08-22\",\"EndDate\":\"2016-08-23\"},{\"intvalue_x\":1,\"intvalue_y\":[12,10,7],\"StartDate\":\"2016-08-22\",\"EndDate\":\"2016-08-23\"},{\"intvalue_x\":1,\"intvalue_y\":[11,100,100,100,100,100,100,100,100,100,100,100,100,100,100,100],\"StartDate\":\"2016-08-22\",\"EndDate\":\"2016-08-23\"},{\"intvalue_x\":1,\"intvalue_y\":[12,10,100,100,100,100,100,100,100,100,100,100,100,100,100,96],\"StartDate\":\"2016-08-22\",\"EndDate\":\"2016-08-23\"}]\n"
     ]
    }
   ],
   "source": [
    "import json\n",
    "import pandas as pd\n",
    "import datetime\n",
    "import sys #?\n",
    "import getopt #?\n",
    "\n",
    "#DATA FETCH - DONE BY FRAMEWORK\n",
    "with open('2106_08_22_10_18_json.json') as json_data:\n",
    "    d = json.load(json_data)\n",
    "data = pd.DataFrame(d)\n",
    "  \n",
    "#PARAMETER SETTING - DONE BY FRAMEWORK (WORK IN PROGRESS)\n",
    "\n",
    "shift = 0\n",
    "threshold = 10\n",
    "start = \"2016-08-22\"\n",
    "end = \"2016-08-23\"\n",
    "\n",
    "#USER CODE BEGINS\n",
    "cols = data.select_dtypes(['object'])\n",
    "data[cols.columns] = cols.apply(lambda x: x.str.strip())\n",
    "data['time_stamp'] = pd.to_datetime(data['time_stamp'], format='%Y-%m-%d %H:%M:%S')\n",
    "data.set_index(['devid', 'time_stamp'], inplace=True)\n",
    "data.sort_index(level=1, inplace=True)\n",
    "dischargedGroup = (data.groupby(level=0, sort=False)['intvalue']\n",
    "                           .apply(list))\n",
    "def check(line):\n",
    "    oldval = 100\n",
    "    for i in line:\n",
    "        if (i > oldval) | (i < threshold):\n",
    "            return 1\n",
    "            break\n",
    "        else:\n",
    "            oldval = i\n",
    "    return 0\n",
    "    \n",
    "discharged = dischargedGroup.apply(check)\n",
    "dischargedGroup = pd.DataFrame(dischargedGroup)\n",
    "discharged = pd.DataFrame(discharged)\n",
    "discharged = discharged[discharged['intvalue'] > 0]\n",
    "discharged = pd.merge(discharged, dischargedGroup, left_index=True, right_index=True)\n",
    "discharged['StartDate'] = start\n",
    "discharged['EndDate'] = end\n",
    "print(discharged.to_json(orient='records'))"
   ]
  }
 ],
 "metadata": {
  "kernelspec": {
   "display_name": "Python 2",
   "language": "python",
   "name": "python2"
  },
  "language_info": {
   "codemirror_mode": {
    "name": "ipython",
    "version": 2
   },
   "file_extension": ".py",
   "mimetype": "text/x-python",
   "name": "python",
   "nbconvert_exporter": "python",
   "pygments_lexer": "ipython2",
   "version": "2.7.13"
  }
 },
 "nbformat": 4,
 "nbformat_minor": 2
}
